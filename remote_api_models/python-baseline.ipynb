{
  "cells": [
    {
      "cell_type": "code",
      "source": [
        "! pip install -q google-generativeai"
      ],
      "metadata": {
        "id": "b4gT-u8qgpCT"
      },
      "execution_count": 1,
      "outputs": []
    },
    {
      "cell_type": "code",
      "source": [
        "import google.generativeai as genai\n",
        "from pathlib import Path\n",
        "from time import sleep\n",
        "\n",
        "class GeminiInference():\n",
        "  def __init__(self):\n",
        "    from google.colab import userdata\n",
        "\n",
        "    self.gemini_key = userdata.get('GEMINI')\n",
        "\n",
        "    genai.configure(api_key=self.gemini_key)\n",
        "    generation_config = {\n",
        "        \"temperature\": 1,\n",
        "        \"top_p\": 1,\n",
        "        \"top_k\": 32,\n",
        "        \"max_output_tokens\": 4096,\n",
        "    }\n",
        "    safety_settings = [\n",
        "        {\n",
        "            \"category\": \"HARM_CATEGORY_HARASSMENT\",\n",
        "            \"threshold\": \"BLOCK_MEDIUM_AND_ABOVE\"\n",
        "        },\n",
        "        {\n",
        "            \"category\": \"HARM_CATEGORY_HATE_SPEECH\",\n",
        "            \"threshold\": \"BLOCK_MEDIUM_AND_ABOVE\"\n",
        "        },\n",
        "        {\n",
        "            \"category\": \"HARM_CATEGORY_SEXUALLY_EXPLICIT\",\n",
        "            \"threshold\": \"BLOCK_MEDIUM_AND_ABOVE\"\n",
        "        },\n",
        "        {\n",
        "            \"category\": \"HARM_CATEGORY_DANGEROUS_CONTENT\",\n",
        "            \"threshold\": \"BLOCK_MEDIUM_AND_ABOVE\"\n",
        "        },\n",
        "    ]\n",
        "\n",
        "    self.model = genai.GenerativeModel(model_name=\"gemini-1.5-flash\",\n",
        "                                  generation_config=generation_config,\n",
        "                                  safety_settings=safety_settings)\n",
        "\n",
        "\n",
        "  def prompt(self, *args, **kwargs):\n",
        "    \"\"\"\n",
        "    Write there custom way to prompt to model or just return the text\n",
        "\n",
        "    \"\"\"\n",
        "    return \" \".join([str(arg) for arg in args])\n",
        "\n",
        "  def extract_target_answer(self, response):\n",
        "    \"\"\"\n",
        "    Write there custom way to process the model output or just return the text\n",
        "\n",
        "    \"\"\"\n",
        "    return response\n",
        "\n",
        "  def get_response(self, input_text):\n",
        "    prompt_parts = [\n",
        "        input_text\n",
        "    ]\n",
        "    response = self.model.generate_content(prompt_parts)\n",
        "    return response.text\n",
        "\n",
        "  def __call__(self, *args, **kwargs):\n",
        "    input_text = self.prompt(*args, **kwargs)\n",
        "\n",
        "    output_text = self.get_response(input_text)\n",
        "\n",
        "    return self.extract_target_answer(output_text)"
      ],
      "metadata": {
        "id": "38P0Pstwgs4R"
      },
      "execution_count": 5,
      "outputs": []
    },
    {
      "cell_type": "code",
      "source": [
        "import json\n",
        "\n",
        "class GeminiForFeatureExtraction(GeminiInference):\n",
        "  def __init__(self, ):\n",
        "    super().__init__()\n",
        "\n",
        "  def extract_target_answer(self, text):\n",
        "        # Remove the Markdown formatting\n",
        "    cleaned_text = text.strip(\"```json\\n\").strip(\"```\")\n",
        "\n",
        "    # Convert the cleaned JSON string to a Python dictionary\n",
        "    try:\n",
        "        data_dict = json.loads(cleaned_text)\n",
        "    except json.JSONDecodeError as e:\n",
        "        print(f\"Error decoding JSON: {e}\")\n",
        "        return None\n",
        "\n",
        "    return data_dict\n",
        "\n",
        "  def prompt(self, text):\n",
        "    prompt = (lambda text: '''You are not only language model, also talented mind created for help me to solve my tasks.\n",
        "    You are the my helper for speeding up my HR tasks.\n",
        "    I will show you text, you task is extract information in json format to like:\n",
        "\n",
        "    {\"Core Responsibilities\": [\"N/A\"],\n",
        "    \"Required Skills\": [\"N/A\"],\n",
        "    \"Educational Requirements\": [\"N/A\"],\n",
        "    \"Experience Level\": [\"N/A\"],\n",
        "    \"Preferred Qualifications\": [\"N/A\"],\n",
        "    \"Compensation and Benefits\": [\"N/A\"]\\}\n",
        "    ''' + f'''\n",
        "    PLEASE GIVE ME ONLY THIS AS ANSWER.\n",
        "    from vacancy or resume text\n",
        "    My Text:\n",
        "    \"{text}\"''')\n",
        "\n",
        "    return prompt(text)"
      ],
      "metadata": {
        "id": "nCuFv7_khd__"
      },
      "execution_count": 8,
      "outputs": []
    },
    {
      "cell_type": "code",
      "source": [
        "class GeminiForVacancyGeneration(GeminiInference):\n",
        "  def __init__(self, ):\n",
        "    super().__init__()\n",
        "\n",
        "  def prompt(self,\n",
        "             title: str,\n",
        "             company: str,\n",
        "             mode: str='online',\n",
        "             skills = 'Python',\n",
        "             salary = None,\n",
        "             experince = None,\n",
        "             ):\n",
        "\n",
        "    vacancy_info = {\n",
        "        \"title\": title,\n",
        "        \"salary\":salary,\n",
        "        \"Employment mode\": mode,\n",
        "        \"company\": company,\n",
        "        \"experience\": experince,\n",
        "        \"skills\": skills\n",
        "    }\n",
        "\n",
        "    return (\"\"\"You are talented HR manager hired into my company, not language model.\n",
        "Today your task is write detailed vacancies text (description, on russian language) which based on my information like:\n",
        "\n",
        "{\"title\": None,\n",
        "\"salary\":None,\n",
        "\"Employment mode\": None,\n",
        "\"company\": None,\n",
        "\"experience\": None,\n",
        "\"skills\": None\n",
        "}\n",
        "And example description have to look like:\n",
        "\"<START>\n",
        "Центр организации дорожного движения активно участвует в формировании городской мобильности, разрабатывает и внедряет стратегии для более быстрого, комфортного и безопасного движения в . Стань частью и внеси свой вклад в развитие дорожно-транспортной инфраструктуры города! К : Обеспечение выполнения работ по содержанию зданий, сооружений и прилегающей территории в надлежащем состоянии, организация уборки, соблюдения чистоты во внутренних помещениях зданий и прилегающей территории Подготовка помещений к осенне-зимней эксплуатации Организация и контроль косметических ремонтов помещений, организация своевременного ремонта офисной мебели Обеспечение сохранности и содержание в исправном состоянии имущества, которое находится в зданиях Ведение учета наличия имущества, проведение периодического осмотра и составления актов на его списание Контроль выполнения правил противопожарной безопасности, знание и выполнение требований нормативных актов об охране труда и окружающей среды : Высшее/Среднее специальное образование Среднее техническое/Высшее техническое образование Опыт работы в данной или смежной областях со схожим функционалом от 1-го года Уверенный пользователь ПК, знание основных компьютерных программ (Word, Excel, Outlook, Internet) Ответственность, организованность, профессиональная грамотность и требовательность, внимательность к деталям в работе : Официальное трудоустройство в стабильном государственном учреждении График 5/2 с 8:00 до 17:00, в пятницу до 15:45 Система оплаты: ежемесячный стабильный доход + квартальные, годовые премии А ЕЩЕ МЫ ПРЕДЛАГАЕМ: Бесплатный проезд (Метро и МЦК) Профсоюзная организация: льготный ДМС, частичная компенсация затрат на санаторно-курортное лечение, оздоровительный отдых Корпоративные мероприятия для сотрудников Корпоративный тренажерный зал Для детей сотрудников: целевое обучение / прохождение практики в Транспортном комплексе Правительства Москвы Льготные ставки по кредитам в Сбербанке и ВТБ по нашим зарплатным проектам\n",
        "<END>\n",
        "\"\n",
        "PLEASE DONT FORGET ABOUT WRITING \"<START>\" TO THE START OF DESCRIPTION AND \"<END>\" TO THE END OF TEXT!\n",
        "\n",
        "Lets start! There is the my vacancy info\n",
        "\"\"\" + str(vacancy_info) + \"\"\"\n",
        "Please write vacancy description base on this information\"\"\")\n",
        "\n",
        "  def extract_target_answer(self, text):\n",
        "    return text.split(\"<START>\")[1].split(\"<END>\")[0]"
      ],
      "metadata": {
        "id": "EJWGiioXiWfA"
      },
      "execution_count": 9,
      "outputs": []
    },
    {
      "cell_type": "code",
      "source": [
        "vacancy_generator = GeminiForVacancyGeneration()"
      ],
      "metadata": {
        "id": "e7bjE22AuLJO"
      },
      "execution_count": 13,
      "outputs": []
    },
    {
      "cell_type": "code",
      "source": [
        "v = vacancy_generator(\n",
        "\n",
        "    title = 'Python Developer',\n",
        "    company = 'Style-Ex',\n",
        "    mode = 'online',\n",
        "    skills = 'Python',\n",
        "    salary = \"1020$\",\n",
        "    experince = \"4 years\",\n",
        ")\n",
        "\n",
        "print(v)"
      ],
      "metadata": {
        "colab": {
          "base_uri": "https://localhost:8080/",
          "height": 683
        },
        "id": "wEyDjwgduXhw",
        "outputId": "14e287cf-c22c-4a15-ccdd-16401be1dfa6"
      },
      "execution_count": 16,
      "outputs": [
        {
          "output_type": "stream",
          "name": "stdout",
          "text": [
            "\n",
            "\n",
            "**Python  Developer**\n",
            "\n",
            "**Style-Ex**  ищет талантливого и опытного Python разработчика для присоединения к нашей команде.\n",
            "\n",
            "**Обязанности:**\n",
            "\n",
            "* Разработка и поддержка высоконагруженных веб-приложений.\n",
            "* Разработка новых функциональных модулей и API.\n",
            "* Оптимизация производительности и масштабируемости кода.\n",
            "* Тестирование и отладка кода.\n",
            "* Участие в проектных совещаниях. \n",
            "\n",
            "**Требования:**\n",
            "\n",
            "* Опыт работы с Python не менее 4 лет.\n",
            "*  Хорошее знание Python, включая основные библиотеки  (Django/Flask, pandas, NumPy, etc).\n",
            "*  Опыт работы с реляционными базами данных (MySQL, PostgreSQL).\n",
            "*  Опыт работы с системами контроля версий (Git).\n",
            "*  Умение работать в команде.\n",
            "\n",
            "**Условия:** \n",
            "\n",
            "*  Удаленная работа.\n",
            "*  Заработная плата: 1020$ (заработная плата  может быть скорректирована  в зависимости от опыта и навыков).\n",
            "*  Возможность профессионального роста.\n",
            "\n",
            "**О Style-Ex**:\n",
            "\n",
            "**(Вставьте краткое описание вашей компании)**\n",
            "\n",
            "Если вы хотите стать частью нашей команды и внести свой вклад в развитие Style-Ex, отправьте свое резюме на [email protected]\n",
            "\n",
            "**\n"
          ]
        }
      ]
    }
  ],
  "metadata": {
    "colab": {
      "provenance": []
    },
    "kernelspec": {
      "display_name": "Python 3",
      "name": "python3"
    },
    "language_info": {
      "name": "python"
    }
  },
  "nbformat": 4,
  "nbformat_minor": 0
}