{
  "cells": [
    {
      "cell_type": "markdown",
      "source": [
        "# Single researchs"
      ],
      "metadata": {
        "id": "W5MGwXvex46J"
      }
    },
    {
      "cell_type": "markdown",
      "source": [
        "## import libs"
      ],
      "metadata": {
        "id": "8gqDIZwdyEL3"
      }
    },
    {
      "cell_type": "code",
      "source": [
        "# prompt: import libs for web scrapping\n",
        "\n",
        "!pip install -q beautifulsoup4\n",
        "!pip install -q requests\n",
        "\n",
        "from bs4 import BeautifulSoup\n",
        "import requests\n"
      ],
      "metadata": {
        "id": "9U-MtwvvpPWi"
      },
      "execution_count": 1,
      "outputs": []
    },
    {
      "cell_type": "markdown",
      "source": [
        "## Load page"
      ],
      "metadata": {
        "id": "x7biC8tPyIMn"
      }
    },
    {
      "cell_type": "code",
      "source": [
        "# prompt: take from page \"https://tashkent.hh.uz/vacancy/103556862\" text of elements with class name \"vacancy-title\" use headers and other stuff to make requests\n",
        "\n",
        "from bs4 import BeautifulSoup\n",
        "import requests\n",
        "\n",
        "url = \"https://tashkent.hh.uz/vacancy/103556862\"\n",
        "headers = {\n",
        "    'User-Agent': 'Mozilla/5.0 (Windows NT 10.0; Win64; x64) AppleWebKit/537.36 (KHTML, like Gecko) Chrome/58.0.3029.110 Safari/537.3'\n",
        "}\n",
        "\n",
        "response = requests.get(url, headers=headers)\n",
        "soup = BeautifulSoup(response.content, 'html.parser')\n"
      ],
      "metadata": {
        "id": "ni_tdVb7phT_"
      },
      "execution_count": 2,
      "outputs": []
    },
    {
      "cell_type": "markdown",
      "source": [
        "## Extraction Features"
      ],
      "metadata": {
        "id": "dIETpcSEyNvL"
      }
    },
    {
      "cell_type": "code",
      "source": [
        "vacancy_title = soup.find('h1', {'data-qa':'vacancy-title'}).text.strip()\n",
        "vacancy_salary = soup.find('div', {'data-qa': 'vacancy-salary'}).text.strip()\n",
        "\n",
        "print(vacancy_title)\n",
        "print(vacancy_salary)"
      ],
      "metadata": {
        "colab": {
          "base_uri": "https://localhost:8080/"
        },
        "id": "1PnDaQpLuSdH",
        "outputId": "2d4edee0-0ed6-43f3-a983-6bbfc791c521"
      },
      "execution_count": 3,
      "outputs": [
        {
          "output_type": "stream",
          "name": "stdout",
          "text": [
            "Full Stack Developer\n",
            "от 800 до 1 800 $ на руки\n"
          ]
        }
      ]
    },
    {
      "cell_type": "code",
      "source": [
        "vacancy_company_name = soup.find('span', {'class': 'vacancy-company-name'}).text.strip()\n",
        "vacancy_required_experience = soup.find('span', {'data-qa': 'vacancy-experience'}).text.strip()\n",
        "employment_model = soup.find('p', {\"data-qa\": \"vacancy-view-employment-mode\"}).text.strip()\n",
        "\n",
        "print(vacancy_company_name)\n",
        "print(vacancy_required_experience)\n",
        "print(employment_model)\n",
        "#"
      ],
      "metadata": {
        "colab": {
          "base_uri": "https://localhost:8080/"
        },
        "id": "XgVEXlWgulBo",
        "outputId": "b4b6dfa9-c28a-452e-bfc4-34485f732b4a"
      },
      "execution_count": 4,
      "outputs": [
        {
          "output_type": "stream",
          "name": "stdout",
          "text": [
            "ООО WEB THEMES DEVELOPMENT\n",
            "1–3 года\n",
            "Полная занятость, удаленная работа\n"
          ]
        }
      ]
    },
    {
      "cell_type": "code",
      "source": [
        "vacancy_description = soup.find('div', {'data-qa': 'vacancy-description'}).text.strip()\n",
        "required_skils = ([skill.text.strip() for skill in soup.find_all('li', {'data-qa': 'skills-element'})])\n",
        "\n",
        "print(vacancy_description)\n",
        "print(required_skils)"
      ],
      "metadata": {
        "colab": {
          "base_uri": "https://localhost:8080/"
        },
        "id": "AO69f2sVwgqL",
        "outputId": "8ae9e36b-b7cf-49fe-c169-4bc2cf8f91ea"
      },
      "execution_count": 5,
      "outputs": [
        {
          "output_type": "stream",
          "name": "stdout",
          "text": [
            "В компанию Stylemix требуется Full Stack (Wordpress) разработчик на полный рабочий день! Stylemix хочет сотрудничать с тобой, если ты обладаешь:- Свободным владением русского языка (знание английского языка будет плюсом);- Уверенными знаниями WordPress, PHP, PHP OOP, JavaScript, HTML5/CSS3, SAAS/LESS, Vue.js;- Laravel, React TypeScript будет плюсом;- Умением пользоваться современными технологиями Fullstack разработки (less, sass, gulp, grunt...). Что нужно будет делать:- Разработка чистого, документированного, протестированного и функционального кода;- Создание интеграции между системами и API;- Проектирование и создание решений с использованием новейших технологий;- Работа с последними фреймворками разработки WordPress;- Важно идти в ногу с последними практиками;- Работать в тесном сотрудничестве с нашими командами дизайнеров и разработчиков. Мы обещаем:- 5 дневную рабочую неделю, с 09:00-18:00, с часовым перерывом на обед;- Профессиональную поддержку от существующей команды, включая сервисы, которые можно переиспользовать в инфраструктуре нового проекта;- Возможность удаленной работы с готовой вовлеченной командой, ориентированной на рост и развитие компании;- Комплексное питание в собственном корпоративном кафе (бесплатные классные завтраки/обеды, вкусный кофе и чай);- Ежегодные премии и пересмотр заработной платы;- Специально оборудованную игровую с PlayStation4, Dota2, CS GO!\n",
            "['CSS3', 'HTML5', 'JavaScript', 'CMS Wordpress', 'PHP OOP', 'Vue.js', 'jQuery', 'Laravel', 'Английский\\xa0— B1 — Средний', 'Русский\\xa0— C1 — Продвинутый']\n"
          ]
        }
      ]
    },
    {
      "cell_type": "markdown",
      "source": [
        "# Main Baseline"
      ],
      "metadata": {
        "id": "fODrL69GySPZ"
      }
    },
    {
      "cell_type": "code",
      "source": [
        "# prompt: write fn for scrap many pages printing scrapped and then clearing output\n",
        "\n",
        "from bs4 import BeautifulSoup\n",
        "import requests\n",
        "import time\n",
        "import json\n",
        "import os\n",
        "\n",
        "import IPython.display\n",
        "\n",
        "from tqdm.notebook import tqdm\n",
        "\n",
        "class scrape_pages():\n",
        "  def __init__(self, urls):\n",
        "    self.urls = urls\n",
        "\n",
        "  def __getitem__(self, idx):\n",
        "    url =  self.urls[idx]\n",
        "\n",
        "    headers = {\n",
        "        'User-Agent': 'Mozilla/5.0 (Windows NT 10.0; Win64; x64) AppleWebKit/537.36 (KHTML, like Gecko) Chrome/58.0.3029.110 Safari/537.3'\n",
        "    }\n",
        "\n",
        "    try:\n",
        "      response = requests.get(url, headers=headers)\n",
        "      soup = BeautifulSoup(response.content, 'html.parser')\n",
        "    except Exception as e:\n",
        "      print(e)\n",
        "      return\n",
        "\n",
        "\n",
        "    try:\n",
        "      vacancy_title = soup.find('h1', {'data-qa':'vacancy-title'}).text.strip()\n",
        "    except:\n",
        "      return\n",
        "\n",
        "    try:\n",
        "      vacancy_salary = soup.find('div', {'data-qa': 'vacancy-salary'}).text.strip()\n",
        "    except:\n",
        "      vacancy_salary = 'None'\n",
        "\n",
        "    vacancy_company_name = soup.find('span', {'class': 'vacancy-company-name'}).text.strip()\n",
        "    vacancy_required_experience = soup.find('span', {'data-qa': 'vacancy-experience'}).text.strip()\n",
        "    employment_mode = soup.find('p', {\"data-qa\": \"vacancy-view-employment-mode\"}).text.strip()\n",
        "    vacancy_description = soup.find('div', {'data-qa': 'vacancy-description'}).text.strip()\n",
        "    required_skils = ([skill.text.strip() for skill in soup.find_all('li', {'data-qa': 'skills-element'})])\n",
        "\n",
        "    print(\"Title:\", vacancy_title)\n",
        "    print(\"Salary:\", vacancy_salary)\n",
        "    print(\"Company:\", vacancy_company_name)\n",
        "    print(\"Experience:\", vacancy_required_experience)\n",
        "    print(\"Model:\", employment_mode)\n",
        "    print(\"Description:\", vacancy_description)\n",
        "    print(\"Skills:\", required_skils)\n",
        "    print(\"-\" * 30)\n",
        "\n",
        "    time.sleep(1)  # Be kind to the server, avoid getting blocked\n",
        "    IPython.display.clear_output(wait=True) # clear output\n",
        "\n",
        "    return {'title': vacancy_title,\n",
        "           'salary': vacancy_salary,\n",
        "           'company': vacancy_company_name,\n",
        "           'experience': vacancy_required_experience,\n",
        "           'mode': employment_mode,\n",
        "           'skills': required_skils,\n",
        "           'url': url,\n",
        "           'description': vacancy_description,\n",
        "           }\n",
        "  def __len__(self):\n",
        "    return len(self.urls)\n",
        "\n",
        "\n",
        "def save_to_json(job_features):\n",
        "  file_name = os.path.join(\"/content/drive/MyDrive/vacancies\", job_features['url'].split('/')[-1] + '.json')\n",
        "  with open(file_name, 'w') as f:\n",
        "    json.dump(job_features, f)"
      ],
      "metadata": {
        "id": "vrx3xzvPyVab"
      },
      "execution_count": 26,
      "outputs": []
    },
    {
      "cell_type": "markdown",
      "source": [
        "## collect links"
      ],
      "metadata": {
        "id": "rBHy8_9J7YLS"
      }
    },
    {
      "cell_type": "code",
      "source": [
        "from time import sleep\n",
        "\n",
        "def find_links(search_url):\n",
        "    sleep(1)\n",
        "    headers = {\n",
        "        'User-Agent': 'Mozilla/5.0 (Windows NT 10.0; Win64; x64) AppleWebKit/537.36 (KHTML, like Gecko) Chrome/58.0.3029.110 Safari/537.3'\n",
        "    }\n",
        "\n",
        "    try:\n",
        "      response = requests.get(search_url, headers=headers)\n",
        "    except Exception as e:\n",
        "      print(e)\n",
        "      return []\n",
        "\n",
        "    soup = BeautifulSoup(response.content, 'html.parser')\n",
        "\n",
        "    for link in soup.find_all('a', {'class': 'bloko-link'}):\n",
        "        if link.get('href').startswith('https://tashkent.hh.uz/vacancy/'):\n",
        "          yield link.get('href')\n",
        "\n",
        "links = [l for l in find_links('https://tashkent.hh.uz/vacancies/specialist')]\n",
        "\n",
        "print(links)"
      ],
      "metadata": {
        "colab": {
          "base_uri": "https://localhost:8080/"
        },
        "id": "4CsBwUMU1K5Z",
        "outputId": "d3d4cf70-3237-414d-ba44-43708ec3dd6e"
      },
      "execution_count": 17,
      "outputs": [
        {
          "output_type": "stream",
          "name": "stdout",
          "text": [
            "['https://tashkent.hh.uz/vacancy/105120768?query=%D1%81%D0%BF%D0%B5%D1%86%D0%B8%D0%B0%D0%BB%D0%B8%D1%81%D1%82&hhtmFrom=vacancy_search_list', 'https://tashkent.hh.uz/vacancy/105476234?query=%D1%81%D0%BF%D0%B5%D1%86%D0%B8%D0%B0%D0%BB%D0%B8%D1%81%D1%82&hhtmFrom=vacancy_search_list', 'https://tashkent.hh.uz/vacancy/104981732?query=%D1%81%D0%BF%D0%B5%D1%86%D0%B8%D0%B0%D0%BB%D0%B8%D1%81%D1%82&hhtmFrom=vacancy_search_list', 'https://tashkent.hh.uz/vacancy/104465881?query=%D1%81%D0%BF%D0%B5%D1%86%D0%B8%D0%B0%D0%BB%D0%B8%D1%81%D1%82&hhtmFrom=vacancy_search_list', 'https://tashkent.hh.uz/vacancy/105412784?query=%D1%81%D0%BF%D0%B5%D1%86%D0%B8%D0%B0%D0%BB%D0%B8%D1%81%D1%82&hhtmFrom=vacancy_search_list', 'https://tashkent.hh.uz/vacancy/104533790?query=%D1%81%D0%BF%D0%B5%D1%86%D0%B8%D0%B0%D0%BB%D0%B8%D1%81%D1%82&hhtmFrom=vacancy_search_list', 'https://tashkent.hh.uz/vacancy/105446738?query=%D1%81%D0%BF%D0%B5%D1%86%D0%B8%D0%B0%D0%BB%D0%B8%D1%81%D1%82&hhtmFrom=vacancy_search_list', 'https://tashkent.hh.uz/vacancy/105525909?query=%D1%81%D0%BF%D0%B5%D1%86%D0%B8%D0%B0%D0%BB%D0%B8%D1%81%D1%82&hhtmFrom=vacancy_search_list', 'https://tashkent.hh.uz/vacancy/105480052?query=%D1%81%D0%BF%D0%B5%D1%86%D0%B8%D0%B0%D0%BB%D0%B8%D1%81%D1%82&hhtmFrom=vacancy_search_list', 'https://tashkent.hh.uz/vacancy/105393271?query=%D1%81%D0%BF%D0%B5%D1%86%D0%B8%D0%B0%D0%BB%D0%B8%D1%81%D1%82&hhtmFrom=vacancy_search_list', 'https://tashkent.hh.uz/vacancy/105469628?query=%D1%81%D0%BF%D0%B5%D1%86%D0%B8%D0%B0%D0%BB%D0%B8%D1%81%D1%82&hhtmFrom=vacancy_search_list', 'https://tashkent.hh.uz/vacancy/105464640?query=%D1%81%D0%BF%D0%B5%D1%86%D0%B8%D0%B0%D0%BB%D0%B8%D1%81%D1%82&hhtmFrom=vacancy_search_list', 'https://tashkent.hh.uz/vacancy/105367520?query=%D1%81%D0%BF%D0%B5%D1%86%D0%B8%D0%B0%D0%BB%D0%B8%D1%81%D1%82&hhtmFrom=vacancy_search_list', 'https://tashkent.hh.uz/vacancy/105367201?query=%D1%81%D0%BF%D0%B5%D1%86%D0%B8%D0%B0%D0%BB%D0%B8%D1%81%D1%82&hhtmFrom=vacancy_search_list', 'https://tashkent.hh.uz/vacancy/105367705?query=%D1%81%D0%BF%D0%B5%D1%86%D0%B8%D0%B0%D0%BB%D0%B8%D1%81%D1%82&hhtmFrom=vacancy_search_list', 'https://tashkent.hh.uz/vacancy/103938986?query=%D1%81%D0%BF%D0%B5%D1%86%D0%B8%D0%B0%D0%BB%D0%B8%D1%81%D1%82&hhtmFrom=vacancy_search_list', 'https://tashkent.hh.uz/vacancy/104128130?query=%D1%81%D0%BF%D0%B5%D1%86%D0%B8%D0%B0%D0%BB%D0%B8%D1%81%D1%82&hhtmFrom=vacancy_search_list', 'https://tashkent.hh.uz/vacancy/105211177?query=%D1%81%D0%BF%D0%B5%D1%86%D0%B8%D0%B0%D0%BB%D0%B8%D1%81%D1%82&hhtmFrom=vacancy_search_list', 'https://tashkent.hh.uz/vacancy/105318209?query=%D1%81%D0%BF%D0%B5%D1%86%D0%B8%D0%B0%D0%BB%D0%B8%D1%81%D1%82&hhtmFrom=vacancy_search_list', 'https://tashkent.hh.uz/vacancy/105441300?query=%D1%81%D0%BF%D0%B5%D1%86%D0%B8%D0%B0%D0%BB%D0%B8%D1%81%D1%82&hhtmFrom=vacancy_search_list', 'https://tashkent.hh.uz/vacancy/101875416?query=%D1%81%D0%BF%D0%B5%D1%86%D0%B8%D0%B0%D0%BB%D0%B8%D1%81%D1%82&hhtmFrom=vacancy_search_list', 'https://tashkent.hh.uz/vacancy/105329893?query=%D1%81%D0%BF%D0%B5%D1%86%D0%B8%D0%B0%D0%BB%D0%B8%D1%81%D1%82&hhtmFrom=vacancy_search_list', 'https://tashkent.hh.uz/vacancy/105288287?query=%D1%81%D0%BF%D0%B5%D1%86%D0%B8%D0%B0%D0%BB%D0%B8%D1%81%D1%82&hhtmFrom=vacancy_search_list', 'https://tashkent.hh.uz/vacancy/105233494?query=%D1%81%D0%BF%D0%B5%D1%86%D0%B8%D0%B0%D0%BB%D0%B8%D1%81%D1%82&hhtmFrom=vacancy_search_list', 'https://tashkent.hh.uz/vacancy/105249620?query=%D1%81%D0%BF%D0%B5%D1%86%D0%B8%D0%B0%D0%BB%D0%B8%D1%81%D1%82&hhtmFrom=vacancy_search_list', 'https://tashkent.hh.uz/vacancy/104725928?query=%D1%81%D0%BF%D0%B5%D1%86%D0%B8%D0%B0%D0%BB%D0%B8%D1%81%D1%82&hhtmFrom=vacancy_search_list', 'https://tashkent.hh.uz/vacancy/104172975?query=%D1%81%D0%BF%D0%B5%D1%86%D0%B8%D0%B0%D0%BB%D0%B8%D1%81%D1%82&hhtmFrom=vacancy_search_list', 'https://tashkent.hh.uz/vacancy/105291487?query=%D1%81%D0%BF%D0%B5%D1%86%D0%B8%D0%B0%D0%BB%D0%B8%D1%81%D1%82&hhtmFrom=vacancy_search_list', 'https://tashkent.hh.uz/vacancy/103292036?query=%D1%81%D0%BF%D0%B5%D1%86%D0%B8%D0%B0%D0%BB%D0%B8%D1%81%D1%82&hhtmFrom=vacancy_search_list', 'https://tashkent.hh.uz/vacancy/103226061?query=%D1%81%D0%BF%D0%B5%D1%86%D0%B8%D0%B0%D0%BB%D0%B8%D1%81%D1%82&hhtmFrom=vacancy_search_list', 'https://tashkent.hh.uz/vacancy/105263149?query=%D1%81%D0%BF%D0%B5%D1%86%D0%B8%D0%B0%D0%BB%D0%B8%D1%81%D1%82&hhtmFrom=vacancy_search_list', 'https://tashkent.hh.uz/vacancy/104834523?query=%D1%81%D0%BF%D0%B5%D1%86%D0%B8%D0%B0%D0%BB%D0%B8%D1%81%D1%82&hhtmFrom=vacancy_search_list', 'https://tashkent.hh.uz/vacancy/104378617?query=%D1%81%D0%BF%D0%B5%D1%86%D0%B8%D0%B0%D0%BB%D0%B8%D1%81%D1%82&hhtmFrom=vacancy_search_list', 'https://tashkent.hh.uz/vacancy/105364057?query=%D1%81%D0%BF%D0%B5%D1%86%D0%B8%D0%B0%D0%BB%D0%B8%D1%81%D1%82&hhtmFrom=vacancy_search_list', 'https://tashkent.hh.uz/vacancy/105224504?query=%D1%81%D0%BF%D0%B5%D1%86%D0%B8%D0%B0%D0%BB%D0%B8%D1%81%D1%82&hhtmFrom=vacancy_search_list', 'https://tashkent.hh.uz/vacancy/103919966?query=%D1%81%D0%BF%D0%B5%D1%86%D0%B8%D0%B0%D0%BB%D0%B8%D1%81%D1%82&hhtmFrom=vacancy_search_list', 'https://tashkent.hh.uz/vacancy/105300360?query=%D1%81%D0%BF%D0%B5%D1%86%D0%B8%D0%B0%D0%BB%D0%B8%D1%81%D1%82&hhtmFrom=vacancy_search_list', 'https://tashkent.hh.uz/vacancy/105470078?query=%D1%81%D0%BF%D0%B5%D1%86%D0%B8%D0%B0%D0%BB%D0%B8%D1%81%D1%82&hhtmFrom=vacancy_search_list', 'https://tashkent.hh.uz/vacancy/104962344?query=%D1%81%D0%BF%D0%B5%D1%86%D0%B8%D0%B0%D0%BB%D0%B8%D1%81%D1%82&hhtmFrom=vacancy_search_list', 'https://tashkent.hh.uz/vacancy/103970822?query=%D1%81%D0%BF%D0%B5%D1%86%D0%B8%D0%B0%D0%BB%D0%B8%D1%81%D1%82&hhtmFrom=vacancy_search_list', 'https://tashkent.hh.uz/vacancy/104357198?query=%D1%81%D0%BF%D0%B5%D1%86%D0%B8%D0%B0%D0%BB%D0%B8%D1%81%D1%82&hhtmFrom=vacancy_search_list', 'https://tashkent.hh.uz/vacancy/104589159?query=%D1%81%D0%BF%D0%B5%D1%86%D0%B8%D0%B0%D0%BB%D0%B8%D1%81%D1%82&hhtmFrom=vacancy_search_list', 'https://tashkent.hh.uz/vacancy/104450972?query=%D1%81%D0%BF%D0%B5%D1%86%D0%B8%D0%B0%D0%BB%D0%B8%D1%81%D1%82&hhtmFrom=vacancy_search_list', 'https://tashkent.hh.uz/vacancy/105328859?query=%D1%81%D0%BF%D0%B5%D1%86%D0%B8%D0%B0%D0%BB%D0%B8%D1%81%D1%82&hhtmFrom=vacancy_search_list', 'https://tashkent.hh.uz/vacancy/104533628?query=%D1%81%D0%BF%D0%B5%D1%86%D0%B8%D0%B0%D0%BB%D0%B8%D1%81%D1%82&hhtmFrom=vacancy_search_list', 'https://tashkent.hh.uz/vacancy/103360175?query=%D1%81%D0%BF%D0%B5%D1%86%D0%B8%D0%B0%D0%BB%D0%B8%D1%81%D1%82&hhtmFrom=vacancy_search_list', 'https://tashkent.hh.uz/vacancy/105503305?query=%D1%81%D0%BF%D0%B5%D1%86%D0%B8%D0%B0%D0%BB%D0%B8%D1%81%D1%82&hhtmFrom=vacancy_search_list', 'https://tashkent.hh.uz/vacancy/104326676?query=%D1%81%D0%BF%D0%B5%D1%86%D0%B8%D0%B0%D0%BB%D0%B8%D1%81%D1%82&hhtmFrom=vacancy_search_list', 'https://tashkent.hh.uz/vacancy/105098871?query=%D1%81%D0%BF%D0%B5%D1%86%D0%B8%D0%B0%D0%BB%D0%B8%D1%81%D1%82&hhtmFrom=vacancy_search_list', 'https://tashkent.hh.uz/vacancy/105503529?query=%D1%81%D0%BF%D0%B5%D1%86%D0%B8%D0%B0%D0%BB%D0%B8%D1%81%D1%82&hhtmFrom=vacancy_search_list']\n"
          ]
        }
      ]
    },
    {
      "cell_type": "code",
      "source": [
        "# Python code to generate 200 different job links\n",
        "with open('hh-jobs.txt', 'r') as f:\n",
        "  links = f.read().split(',')\n",
        "\n",
        "links = [link.strip() for link in links]\n",
        "\n",
        "all_links = list()\n",
        "_ =  [all_links.extend(list(find_links(link))) for link in tqdm(links)]"
      ],
      "metadata": {
        "colab": {
          "base_uri": "https://localhost:8080/",
          "height": 49,
          "referenced_widgets": [
            "ce3816ebdf544141ac4fdc8832ede1df",
            "af4ffb8c56a54d5490392861a83133d3",
            "d16fb349611947dfaddedac35ab17e63",
            "dccd157faab3457ea6b103bf178fa556",
            "69d234c145964632abfa26ee6a830f7f",
            "98c33363f81e4b198fb91cf6dd233580",
            "4fd27ffa9af04e02a62ff07ae8523e6e",
            "58d0744c52a84c05a84c22c0b3d55763",
            "7f3019e7b28b40369d75d3c784824046",
            "a5e1f9496eef4b318268c812c8de6e80",
            "ddd774221e784b939ce6bcb2d1293ead"
          ]
        },
        "id": "AWiMHn1g2Ap-",
        "outputId": "97e1d971-bcb7-4ec4-fa0d-32e1841d5a83"
      },
      "execution_count": 18,
      "outputs": [
        {
          "output_type": "display_data",
          "data": {
            "text/plain": [
              "  0%|          | 0/158 [00:00<?, ?it/s]"
            ],
            "application/vnd.jupyter.widget-view+json": {
              "version_major": 2,
              "version_minor": 0,
              "model_id": "ce3816ebdf544141ac4fdc8832ede1df"
            }
          },
          "metadata": {}
        }
      ]
    },
    {
      "cell_type": "code",
      "source": [
        "all_links = list(set(all_links))\n",
        "\n",
        "len(all_links)"
      ],
      "metadata": {
        "colab": {
          "base_uri": "https://localhost:8080/"
        },
        "collapsed": true,
        "id": "QmPO8WOD51PD",
        "outputId": "bbe0070b-2d13-466b-d2db-fdf7bdcfd21a"
      },
      "execution_count": 19,
      "outputs": [
        {
          "output_type": "execute_result",
          "data": {
            "text/plain": [
              "1342"
            ]
          },
          "metadata": {},
          "execution_count": 19
        }
      ]
    },
    {
      "cell_type": "markdown",
      "source": [
        "## run"
      ],
      "metadata": {
        "id": "8FMEn2Ke7pNa"
      }
    },
    {
      "cell_type": "code",
      "source": [
        "from google.colab import drive\n",
        "drive.mount('/content/drive')"
      ],
      "metadata": {
        "colab": {
          "base_uri": "https://localhost:8080/"
        },
        "id": "yk4iMMgGVfnN",
        "outputId": "9ace7cca-48b0-41ea-bb55-a2caa041bc58"
      },
      "execution_count": 21,
      "outputs": [
        {
          "output_type": "stream",
          "name": "stdout",
          "text": [
            "Mounted at /content/drive\n"
          ]
        }
      ]
    },
    {
      "cell_type": "code",
      "source": [
        "features_dataset = scrape_pages(all_links)\n",
        "\n",
        "for i, features in enumerate(features_dataset):\n",
        "  if features is None:\n",
        "    continue\n",
        "  print(f'{i}/{len(features_dataset)}')\n",
        "  save_to_json(features)"
      ],
      "metadata": {
        "colab": {
          "base_uri": "https://localhost:8080/"
        },
        "id": "qMRsQoAn7nbC",
        "outputId": "ebfdcc14-941c-4916-fb43-71fba58684ef"
      },
      "execution_count": 27,
      "outputs": [
        {
          "output_type": "stream",
          "name": "stdout",
          "text": [
            "1341/1342\n"
          ]
        }
      ]
    }
  ],
  "metadata": {
    "colab": {
      "provenance": []
    },
    "kernelspec": {
      "display_name": "Python 3",
      "name": "python3"
    },
    "language_info": {
      "name": "python"
    },
    "widgets": {
      "application/vnd.jupyter.widget-state+json": {
        "ce3816ebdf544141ac4fdc8832ede1df": {
          "model_module": "@jupyter-widgets/controls",
          "model_name": "HBoxModel",
          "model_module_version": "1.5.0",
          "state": {
            "_dom_classes": [],
            "_model_module": "@jupyter-widgets/controls",
            "_model_module_version": "1.5.0",
            "_model_name": "HBoxModel",
            "_view_count": null,
            "_view_module": "@jupyter-widgets/controls",
            "_view_module_version": "1.5.0",
            "_view_name": "HBoxView",
            "box_style": "",
            "children": [
              "IPY_MODEL_af4ffb8c56a54d5490392861a83133d3",
              "IPY_MODEL_d16fb349611947dfaddedac35ab17e63",
              "IPY_MODEL_dccd157faab3457ea6b103bf178fa556"
            ],
            "layout": "IPY_MODEL_69d234c145964632abfa26ee6a830f7f"
          }
        },
        "af4ffb8c56a54d5490392861a83133d3": {
          "model_module": "@jupyter-widgets/controls",
          "model_name": "HTMLModel",
          "model_module_version": "1.5.0",
          "state": {
            "_dom_classes": [],
            "_model_module": "@jupyter-widgets/controls",
            "_model_module_version": "1.5.0",
            "_model_name": "HTMLModel",
            "_view_count": null,
            "_view_module": "@jupyter-widgets/controls",
            "_view_module_version": "1.5.0",
            "_view_name": "HTMLView",
            "description": "",
            "description_tooltip": null,
            "layout": "IPY_MODEL_98c33363f81e4b198fb91cf6dd233580",
            "placeholder": "​",
            "style": "IPY_MODEL_4fd27ffa9af04e02a62ff07ae8523e6e",
            "value": "100%"
          }
        },
        "d16fb349611947dfaddedac35ab17e63": {
          "model_module": "@jupyter-widgets/controls",
          "model_name": "FloatProgressModel",
          "model_module_version": "1.5.0",
          "state": {
            "_dom_classes": [],
            "_model_module": "@jupyter-widgets/controls",
            "_model_module_version": "1.5.0",
            "_model_name": "FloatProgressModel",
            "_view_count": null,
            "_view_module": "@jupyter-widgets/controls",
            "_view_module_version": "1.5.0",
            "_view_name": "ProgressView",
            "bar_style": "success",
            "description": "",
            "description_tooltip": null,
            "layout": "IPY_MODEL_58d0744c52a84c05a84c22c0b3d55763",
            "max": 158,
            "min": 0,
            "orientation": "horizontal",
            "style": "IPY_MODEL_7f3019e7b28b40369d75d3c784824046",
            "value": 158
          }
        },
        "dccd157faab3457ea6b103bf178fa556": {
          "model_module": "@jupyter-widgets/controls",
          "model_name": "HTMLModel",
          "model_module_version": "1.5.0",
          "state": {
            "_dom_classes": [],
            "_model_module": "@jupyter-widgets/controls",
            "_model_module_version": "1.5.0",
            "_model_name": "HTMLModel",
            "_view_count": null,
            "_view_module": "@jupyter-widgets/controls",
            "_view_module_version": "1.5.0",
            "_view_name": "HTMLView",
            "description": "",
            "description_tooltip": null,
            "layout": "IPY_MODEL_a5e1f9496eef4b318268c812c8de6e80",
            "placeholder": "​",
            "style": "IPY_MODEL_ddd774221e784b939ce6bcb2d1293ead",
            "value": " 158/158 [08:48&lt;00:00,  3.15s/it]"
          }
        },
        "69d234c145964632abfa26ee6a830f7f": {
          "model_module": "@jupyter-widgets/base",
          "model_name": "LayoutModel",
          "model_module_version": "1.2.0",
          "state": {
            "_model_module": "@jupyter-widgets/base",
            "_model_module_version": "1.2.0",
            "_model_name": "LayoutModel",
            "_view_count": null,
            "_view_module": "@jupyter-widgets/base",
            "_view_module_version": "1.2.0",
            "_view_name": "LayoutView",
            "align_content": null,
            "align_items": null,
            "align_self": null,
            "border": null,
            "bottom": null,
            "display": null,
            "flex": null,
            "flex_flow": null,
            "grid_area": null,
            "grid_auto_columns": null,
            "grid_auto_flow": null,
            "grid_auto_rows": null,
            "grid_column": null,
            "grid_gap": null,
            "grid_row": null,
            "grid_template_areas": null,
            "grid_template_columns": null,
            "grid_template_rows": null,
            "height": null,
            "justify_content": null,
            "justify_items": null,
            "left": null,
            "margin": null,
            "max_height": null,
            "max_width": null,
            "min_height": null,
            "min_width": null,
            "object_fit": null,
            "object_position": null,
            "order": null,
            "overflow": null,
            "overflow_x": null,
            "overflow_y": null,
            "padding": null,
            "right": null,
            "top": null,
            "visibility": null,
            "width": null
          }
        },
        "98c33363f81e4b198fb91cf6dd233580": {
          "model_module": "@jupyter-widgets/base",
          "model_name": "LayoutModel",
          "model_module_version": "1.2.0",
          "state": {
            "_model_module": "@jupyter-widgets/base",
            "_model_module_version": "1.2.0",
            "_model_name": "LayoutModel",
            "_view_count": null,
            "_view_module": "@jupyter-widgets/base",
            "_view_module_version": "1.2.0",
            "_view_name": "LayoutView",
            "align_content": null,
            "align_items": null,
            "align_self": null,
            "border": null,
            "bottom": null,
            "display": null,
            "flex": null,
            "flex_flow": null,
            "grid_area": null,
            "grid_auto_columns": null,
            "grid_auto_flow": null,
            "grid_auto_rows": null,
            "grid_column": null,
            "grid_gap": null,
            "grid_row": null,
            "grid_template_areas": null,
            "grid_template_columns": null,
            "grid_template_rows": null,
            "height": null,
            "justify_content": null,
            "justify_items": null,
            "left": null,
            "margin": null,
            "max_height": null,
            "max_width": null,
            "min_height": null,
            "min_width": null,
            "object_fit": null,
            "object_position": null,
            "order": null,
            "overflow": null,
            "overflow_x": null,
            "overflow_y": null,
            "padding": null,
            "right": null,
            "top": null,
            "visibility": null,
            "width": null
          }
        },
        "4fd27ffa9af04e02a62ff07ae8523e6e": {
          "model_module": "@jupyter-widgets/controls",
          "model_name": "DescriptionStyleModel",
          "model_module_version": "1.5.0",
          "state": {
            "_model_module": "@jupyter-widgets/controls",
            "_model_module_version": "1.5.0",
            "_model_name": "DescriptionStyleModel",
            "_view_count": null,
            "_view_module": "@jupyter-widgets/base",
            "_view_module_version": "1.2.0",
            "_view_name": "StyleView",
            "description_width": ""
          }
        },
        "58d0744c52a84c05a84c22c0b3d55763": {
          "model_module": "@jupyter-widgets/base",
          "model_name": "LayoutModel",
          "model_module_version": "1.2.0",
          "state": {
            "_model_module": "@jupyter-widgets/base",
            "_model_module_version": "1.2.0",
            "_model_name": "LayoutModel",
            "_view_count": null,
            "_view_module": "@jupyter-widgets/base",
            "_view_module_version": "1.2.0",
            "_view_name": "LayoutView",
            "align_content": null,
            "align_items": null,
            "align_self": null,
            "border": null,
            "bottom": null,
            "display": null,
            "flex": null,
            "flex_flow": null,
            "grid_area": null,
            "grid_auto_columns": null,
            "grid_auto_flow": null,
            "grid_auto_rows": null,
            "grid_column": null,
            "grid_gap": null,
            "grid_row": null,
            "grid_template_areas": null,
            "grid_template_columns": null,
            "grid_template_rows": null,
            "height": null,
            "justify_content": null,
            "justify_items": null,
            "left": null,
            "margin": null,
            "max_height": null,
            "max_width": null,
            "min_height": null,
            "min_width": null,
            "object_fit": null,
            "object_position": null,
            "order": null,
            "overflow": null,
            "overflow_x": null,
            "overflow_y": null,
            "padding": null,
            "right": null,
            "top": null,
            "visibility": null,
            "width": null
          }
        },
        "7f3019e7b28b40369d75d3c784824046": {
          "model_module": "@jupyter-widgets/controls",
          "model_name": "ProgressStyleModel",
          "model_module_version": "1.5.0",
          "state": {
            "_model_module": "@jupyter-widgets/controls",
            "_model_module_version": "1.5.0",
            "_model_name": "ProgressStyleModel",
            "_view_count": null,
            "_view_module": "@jupyter-widgets/base",
            "_view_module_version": "1.2.0",
            "_view_name": "StyleView",
            "bar_color": null,
            "description_width": ""
          }
        },
        "a5e1f9496eef4b318268c812c8de6e80": {
          "model_module": "@jupyter-widgets/base",
          "model_name": "LayoutModel",
          "model_module_version": "1.2.0",
          "state": {
            "_model_module": "@jupyter-widgets/base",
            "_model_module_version": "1.2.0",
            "_model_name": "LayoutModel",
            "_view_count": null,
            "_view_module": "@jupyter-widgets/base",
            "_view_module_version": "1.2.0",
            "_view_name": "LayoutView",
            "align_content": null,
            "align_items": null,
            "align_self": null,
            "border": null,
            "bottom": null,
            "display": null,
            "flex": null,
            "flex_flow": null,
            "grid_area": null,
            "grid_auto_columns": null,
            "grid_auto_flow": null,
            "grid_auto_rows": null,
            "grid_column": null,
            "grid_gap": null,
            "grid_row": null,
            "grid_template_areas": null,
            "grid_template_columns": null,
            "grid_template_rows": null,
            "height": null,
            "justify_content": null,
            "justify_items": null,
            "left": null,
            "margin": null,
            "max_height": null,
            "max_width": null,
            "min_height": null,
            "min_width": null,
            "object_fit": null,
            "object_position": null,
            "order": null,
            "overflow": null,
            "overflow_x": null,
            "overflow_y": null,
            "padding": null,
            "right": null,
            "top": null,
            "visibility": null,
            "width": null
          }
        },
        "ddd774221e784b939ce6bcb2d1293ead": {
          "model_module": "@jupyter-widgets/controls",
          "model_name": "DescriptionStyleModel",
          "model_module_version": "1.5.0",
          "state": {
            "_model_module": "@jupyter-widgets/controls",
            "_model_module_version": "1.5.0",
            "_model_name": "DescriptionStyleModel",
            "_view_count": null,
            "_view_module": "@jupyter-widgets/base",
            "_view_module_version": "1.2.0",
            "_view_name": "StyleView",
            "description_width": ""
          }
        }
      }
    }
  },
  "nbformat": 4,
  "nbformat_minor": 0
}