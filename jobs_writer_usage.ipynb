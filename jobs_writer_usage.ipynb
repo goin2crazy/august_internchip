{
  "cells": [
    {
      "cell_type": "code",
      "source": [
        "\n",
        "class Config:\n",
        "  required_info_keys = ['title', 'salary', 'company', 'experience', 'mode', 'skills']\n",
        "\n",
        "  model_path = 'doublecringe123/job-describtion-copilot-ru'\n",
        "  tokenizer_path = 'cometrain/neurotitle-rugpt3-small'\n",
        "\n",
        "  model_revision = None"
      ],
      "metadata": {
        "id": "-0Xck95je7zF"
      },
      "execution_count": 3,
      "outputs": []
    },
    {
      "cell_type": "code",
      "source": [
        "from transformers import AutoTokenizer, AutoModelForCausalLM\n",
        "\n",
        "model = AutoModelForCausalLM.from_pretrained(Config.model_path, revision=Config.model_revision)\n",
        "\n",
        "tokenizer = AutoTokenizer.from_pretrained(Config.tokenizer_path)"
      ],
      "metadata": {
        "id": "p70DVlNqgvTv"
      },
      "execution_count": 19,
      "outputs": []
    },
    {
      "cell_type": "code",
      "source": [
        "tokenizer('\\n')"
      ],
      "metadata": {
        "colab": {
          "base_uri": "https://localhost:8080/"
        },
        "id": "n4Xeaw9b-sA_",
        "outputId": "b0a87d38-2f38-4167-d701-ed30419b3895"
      },
      "execution_count": 23,
      "outputs": [
        {
          "output_type": "execute_result",
          "data": {
            "text/plain": [
              "{'input_ids': [203], 'attention_mask': [1]}"
            ]
          },
          "metadata": {},
          "execution_count": 23
        }
      ]
    },
    {
      "cell_type": "code",
      "source": [
        "prompt = '''\n",
        "title: python Разработчик,\n",
        "salary: 800-1600$,\n",
        "company: \"stile-ex OOO\",\n",
        "experince: 1-3 года,\n",
        "mode: \"Офисс, полный день\",\n",
        "skills: [Python, Django, Numpy, Enblish B1]\n",
        "\n",
        "Мы ищем талантливого массажера простаты в нашу команду! Обязательно '''\n",
        "\n",
        "tokenz = tokenizer(prompt, return_tensors='pt')"
      ],
      "metadata": {
        "id": "aiDul5QNhyFV"
      },
      "execution_count": 45,
      "outputs": []
    },
    {
      "cell_type": "code",
      "source": [
        "output = model.generate(**tokenz,\n",
        "                        max_new_tokens=13,\n",
        "                        do_sample=True,\n",
        "                        top_p = 0.97,\n",
        "                        top_k = 5,\n",
        "                        num_beams=2,\n",
        "                        # bad_words_ids = [tokenizer('\\n').input_ids],\n",
        "                        temperature = 0.4,\n",
        "                        repetition_penalty=1.2,\n",
        "\n",
        "                        no_repeat_ngram_size=2,\n",
        "                        pad_token_id=tokenizer.eos_token_id\n",
        "                        )\n",
        "\n",
        "tokenizer.batch_decode(output, skip_special_tokens=True)[0]"
      ],
      "metadata": {
        "colab": {
          "base_uri": "https://localhost:8080/",
          "height": 55
        },
        "id": "XU5LAuY1i0Tq",
        "outputId": "c5c57354-54b4-4ace-dc0c-2b979d8c423a"
      },
      "execution_count": 48,
      "outputs": [
        {
          "output_type": "execute_result",
          "data": {
            "text/plain": [
              "'\\ntitle: python Разработчик, \\nsalary: 800-1600$, \\ncompany: \"stile-ex OOO\", \\nexperince: 1-3 года, \\nmode: \"Офисс, полный день\", \\nskills: [Python, Django, Numpy, Enblish B1]\\n\\nМы ищем талантливого массажера простаты в нашу команду! Обязательно  приветствуется опыт работы с реляционными базами данных (P'"
            ],
            "application/vnd.google.colaboratory.intrinsic+json": {
              "type": "string"
            }
          },
          "metadata": {},
          "execution_count": 48
        }
      ]
    }
  ],
  "metadata": {
    "colab": {
      "provenance": []
    },
    "kernelspec": {
      "display_name": "Python 3",
      "name": "python3"
    },
    "language_info": {
      "name": "python"
    }
  },
  "nbformat": 4,
  "nbformat_minor": 0
}